{
 "cells": [
  {
   "cell_type": "markdown",
   "metadata": {},
   "source": [
    "# Analyzing Stock Data to Identify Investment Risk"
   ]
  },
  {
   "cell_type": "markdown",
   "metadata": {},
   "source": [
    "Even though the internet dates back to the 70s when the internet was still in its infancy, it was during the 90s when it became a mainstay in homes across the globe. And with new age of information, so did the people who set up shop on the space.\n",
    "\n",
    "It was during that time when companies began setting up virtual marketplaces, namely Jeff Bezo's Amazon and Pierre Omidyar's eBay to match buyers and sellers of goods and services. Although these two are strong household names, how do these companies hold up when it comes to investing in them now?\n",
    "\n",
    "In this analysis, we will analyze the risk and return for each of these E-commerce companies by calculating the rates of return as well as other key statistics such as variance and correlation for assessing risk.\n",
    "\n",
    "To ensure that the plots display correctly in this document, run the code cell below to reload modules before executing user code to make workflow possible."
   ]
  },
  {
   "cell_type": "code",
   "execution_count": 1,
   "metadata": {},
   "outputs": [],
   "source": [
    "%load_ext autoreload\n",
    "%autoreload 2"
   ]
  },
  {
   "cell_type": "markdown",
   "metadata": {},
   "source": [
    "## Risk Investment Analysis Helper Functions"
   ]
  },
  {
   "cell_type": "markdown",
   "metadata": {},
   "source": [
    "In order to calculate the risk and reward between the two companies, we must first set up basic functions to calculate log return, variance, standard deviation, and the correlation coefficient (we will go over why these are important later.)\n",
    "\n",
    "But first, let's import the necessary math functions as well as a function for displaying a decimal as a percentage"
   ]
  },
  {
   "cell_type": "code",
   "execution_count": 2,
   "metadata": {},
   "outputs": [],
   "source": [
    "from math import log, sqrt\n",
    "\n",
    "def display_as_percentage(val):\n",
    "    return '{:.1f}%'.format(val*100)"
   ]
  },
  {
   "cell_type": "markdown",
   "metadata": {},
   "source": [
    "### Logarithmic Rate of Return\n",
    "\n",
    "The first helper function that we need to write is the **logarithmic rate of return** also known as the **continuously compounded return** given by the formula below.\n",
    "\n",
    "\n",
    "$$\n",
    "r = log(E) - log(S) = log(\\frac{E}{S})\n",
    "$$\n",
    "\n",
    "where \n",
    "\n",
    "- `r`: logarithmic rate of return\n",
    "- `S`: starting price of investment\n",
    "- `E`: ending price of investment\n",
    "\n",
    "This formula calculates the expected return for an investment where the earnings are assumed to be continually reinvested over a certain time period."
   ]
  },
  {
   "cell_type": "code",
   "execution_count": 3,
   "metadata": {},
   "outputs": [],
   "source": [
    "def calculate_log_return(start_price, end_price):\n",
    "    return log(end_price / start_price)"
   ]
  },
  {
   "cell_type": "markdown",
   "metadata": {},
   "source": [
    "### Variance\n",
    "\n",
    "To assess the risk involved in an investment, one of the key statistics to understand risk is **variance** which measures the spread of a dataset or how far apart each value is from the mean. The greater the variance, the more spread out or variable the data is represented by the formula below.\n",
    "\n",
    "$$\\sigma^{2} = \\frac{\\Sigma(X_{i} - \\bar{X})^{2}}{n}$$\n",
    "\n",
    "- `σ2`: variance\n",
    "- `Xi`: the ith value in the dataset\n",
    "- `X̄`: the mean of the dataset\n",
    "- `n`: the number of values in the dataset\n",
    "\n",
    "\n",
    "In the context of investing, an asset with a high variance is generally a riskier one because its return can vary significantly in a short period of time, making it less stable and more unpredictable."
   ]
  },
  {
   "cell_type": "code",
   "execution_count": 4,
   "metadata": {},
   "outputs": [],
   "source": [
    "def calculate_variance(dataset):\n",
    "    mean = sum(dataset)/len(dataset)\n",
    "    numerator = 0\n",
    "    for data in dataset:\n",
    "        numerator += (data-mean) ** 2\n",
    "    return numerator / len(dataset)"
   ]
  },
  {
   "cell_type": "markdown",
   "metadata": {},
   "source": [
    "### Standard Deviation\n",
    "\n",
    "\n",
    "Although the variance is useful in determining the relative risk of an investment, it is sometimes not the easiest statistic to interpret since it does not have the same unit as the original data. Alternatively, we can use the standard deviation to describe the spread of the dataset.\n",
    "\n",
    "And in this case, we can calculate the standard deviation simply as the square root of the variance.\n",
    "\n",
    "$$\\sigma = \\sqrt{\\frac{\\Sigma(X_{i} - \\bar{X})^{2}}{n}}$$\n",
    "\n",
    "- `σ`: standard deviation\n",
    "- `Xi`: the ith value in the dataset\n",
    "- `X̄`: the mean of the dataset\n",
    "- `n`: the number of values in the dataset"
   ]
  },
  {
   "cell_type": "code",
   "execution_count": 5,
   "metadata": {},
   "outputs": [],
   "source": [
    "def calculate_stddev(dataset):\n",
    "    variance = calculate_variance(dataset)\n",
    "    return sqrt(variance)"
   ]
  },
  {
   "cell_type": "markdown",
   "metadata": {},
   "source": [
    "### Calculating Correlation\n",
    "\n",
    "\n",
    "Another important statistic for assessing risk is the correlation between the returns of two assets. Correlation is a measure of how closely two datasets are associated with each other. It is often represented by the correlation coefficient, which is a value that ranges between -1 and 1. This indicates whether there is a positive correlation, negative correlation, or no correlation.\n",
    "\n",
    "In finance, two assets from the same industry generally have a positive correlation, as they are likely affected by similar external conditions. So for example, automobile stocks may be positively correlated with each other while oil stocks may be negatively correlated with automobile stocks.\n",
    "\n",
    "When building a portfolio, it is generally a good idea to include assets that are not correlated with each other. If assets are independent of one another, then there is a lower risk of the financial loss that can occur when assets in a portfolio are correlated. This allows for greater diversification and balances out the overall risk and return of the portfolio.\n",
    "\n",
    "And to get a single value that tells us the relationship between two continuous variables,, we use the Pearson Correlation Coefficient that measures both the strength and direction of the linear relationship.\n",
    "\n",
    "We use the formula shown below:\n",
    "\n",
    "$$\\rho = \\frac{\\text{cov}(X,Y)}{\\sigma_x \\sigma_y}$$\n",
    "\n",
    "- `x̄` = Mean of x\n",
    "\n",
    "- `ȳ` = Mean of y"
   ]
  },
  {
   "cell_type": "code",
   "execution_count": 6,
   "metadata": {},
   "outputs": [],
   "source": [
    "# Calculate Correlation Coefficient\n",
    "def calculate_correlation(set_x, set_y):\n",
    "    sum_x = sum(set_x)\n",
    "    sum_y = sum(set_y)\n",
    "    \n",
    "    sum_x2 = sum([x ** 2 for x in set_x])\n",
    "    sum_y2 = sum([y ** 2 for y in set_y])\n",
    "    sum_xy = sum([x * y for x,y in zip(set_x, set_y)])\n",
    "    \n",
    "    n = len(set_x)\n",
    "    numerator = n * sum_xy - sum_x * sum_y\n",
    "    denominator = sqrt((n * sum_x2 - sum_x ** 2) * (n * sum_y2 - sum_y ** 2))\n",
    "    return numerator / denominator"
   ]
  },
  {
   "cell_type": "markdown",
   "metadata": {},
   "source": [
    "## Calculate Rate of Return"
   ]
  },
  {
   "cell_type": "markdown",
   "metadata": {},
   "source": [
    "2. Let's start by calculating the logarithmic rates of return from the stock prices. Define a function called `get_returns()` that takes a parameter called `prices`, which will be a list of stock prices.\n",
    "\n",
    "   The function will eventually return a list of log returns calculated from each adjacent pair of prices. For now, create a variable called `returns` inside the function body, and set it equal to an empty list.\n",
    "   \n",
    "   Next, use a `for` loop to iterate over the `prices` list, from the 1st element to the 2nd to last.\n",
    "\n",
    "   You will be accessing the elements by their indices, so use the `range()` function to help generate the sequence of numbers to iterate over. Recall that Python uses zero-based indexing, meaning the index numbering of the list starts with `0` and ends with `n - 1`, where `n` is the number of elements in the list.\n",
    "   \n",
    "   Comment out the `for` loop for now so that the kernel doesn't throw an error at you."
   ]
  },
  {
   "cell_type": "code",
   "execution_count": 7,
   "metadata": {},
   "outputs": [],
   "source": [
    "amazon_prices = [1699.8, 1777.44, 2012.71, 2003.0, 1598.01, 1690.17, 1501.97, 1718.73, 1639.83, 1780.75, 1926.52, 1775.07, 1893.63]\n",
    "ebay_prices = [35.98, 33.2, 34.35, 32.77, 28.81, 29.62, 27.86, 33.39, 37.01, 37.0, 38.6, 35.93, 39.5]\n",
    "\n",
    "def get_returns(prices):\n",
    "    returns = []\n",
    "    for i in range(len(prices)-1):\n",
    "        start_price = prices[i]\n",
    "        end_price = prices[i+1]\n",
    "        returns.append(calculate_log_return(start_price, end_price))\n",
    "    return returns"
   ]
  },
  {
   "cell_type": "code",
   "execution_count": null,
   "metadata": {},
   "outputs": [],
   "source": []
  },
  {
   "cell_type": "markdown",
   "metadata": {},
   "source": [
    "4. As you iterate over each index `i`, the element in the `prices` list that is at position `i` will be the start price and the element with index `i + 1` will be the end price. Use the `calculate_log_return()` function to calculate the rate of return from the start and end prices. Then, append the rate of return to the `returns` list.\n",
    "\n",
    "   After your for loop, return `returns` from the `get_returns()` function."
   ]
  },
  {
   "cell_type": "code",
   "execution_count": null,
   "metadata": {},
   "outputs": [],
   "source": []
  },
  {
   "cell_type": "markdown",
   "metadata": {},
   "source": [
    "5. Use the `get_returns()` function to find the monthly log rates of return from the Amazon and eBay stock prices. Store those list of returns in the variables `amazon_returns` and `ebay_returns`, respectively."
   ]
  },
  {
   "cell_type": "code",
   "execution_count": 8,
   "metadata": {},
   "outputs": [],
   "source": [
    "amazon_returns = get_returns(amazon_prices)\n",
    "ebay_returns = get_returns(ebay_prices)"
   ]
  },
  {
   "cell_type": "markdown",
   "metadata": {},
   "source": [
    "6. Time to print out the lists of monthly returns! Since rates of return is often expressed as a percentage, use the `display_as_percentage()` function and list comprehension to display each value in `amazon_returns` and `ebay_returns` as a percentage.\n",
    "\n",
    "   How do the monthly returns of the two stocks compare? Are they on average profitable?"
   ]
  },
  {
   "cell_type": "code",
   "execution_count": 9,
   "metadata": {},
   "outputs": [
    {
     "data": {
      "text/plain": [
       "['4.5%',\n",
       " '12.4%',\n",
       " '-0.5%',\n",
       " '-22.6%',\n",
       " '5.6%',\n",
       " '-11.8%',\n",
       " '13.5%',\n",
       " '-4.7%',\n",
       " '8.2%',\n",
       " '7.9%',\n",
       " '-8.2%',\n",
       " '6.5%']"
      ]
     },
     "execution_count": 9,
     "metadata": {},
     "output_type": "execute_result"
    }
   ],
   "source": [
    "[display_as_percentage(price_return) for price_return in amazon_returns]"
   ]
  },
  {
   "cell_type": "code",
   "execution_count": 10,
   "metadata": {},
   "outputs": [
    {
     "data": {
      "text/plain": [
       "['-8.0%',\n",
       " '3.4%',\n",
       " '-4.7%',\n",
       " '-12.9%',\n",
       " '2.8%',\n",
       " '-6.1%',\n",
       " '18.1%',\n",
       " '10.3%',\n",
       " '-0.0%',\n",
       " '4.2%',\n",
       " '-7.2%',\n",
       " '9.5%']"
      ]
     },
     "execution_count": 10,
     "metadata": {},
     "output_type": "execute_result"
    }
   ],
   "source": [
    "[display_as_percentage(price_return) for price_return in ebay_returns]"
   ]
  },
  {
   "cell_type": "markdown",
   "metadata": {},
   "source": [
    "7. Now, let's calculate the annual rate of return for each stock!\n",
    "\n",
    "   Recall that log returns can easily be aggregated over time. Since `amazon_returns` and `ebay_returns` contain the monthly log returns for all 12 months in the past year, the annual return is simply the sum of all monthly returns. Use the `display_as_percentage()` function to help format the annual return as a percentage when you print out the results.\n",
    "   \n",
    "   How do the annual returns of the two stocks compare?"
   ]
  },
  {
   "cell_type": "code",
   "execution_count": 11,
   "metadata": {},
   "outputs": [
    {
     "name": "stdout",
     "output_type": "stream",
     "text": [
      "0.1079850248487889\n",
      "0.09333744338468924\n"
     ]
    }
   ],
   "source": [
    "amzn_annual_return = sum(amazon_returns)\n",
    "ebay_annual_return = sum(ebay_returns)\n",
    "print(amzn_annual_return)\n",
    "print(ebay_annual_return)"
   ]
  },
  {
   "cell_type": "markdown",
   "metadata": {},
   "source": [
    "## Assess Investment Risk"
   ]
  },
  {
   "cell_type": "markdown",
   "metadata": {},
   "source": [
    "8. Let's move on to assessing the risk of each investment! Start by calculating the variance of each stock's monthly returns. Use the `calculate_variance()` function we provided in the first task and print out the results.\n",
    "\n",
    "   How do the variance for each stock compare? What does this tell you about their relative risk?"
   ]
  },
  {
   "cell_type": "code",
   "execution_count": 12,
   "metadata": {},
   "outputs": [
    {
     "name": "stdout",
     "output_type": "stream",
     "text": [
      "0.010738060556609724\n",
      "0.007459046435081462\n"
     ]
    }
   ],
   "source": [
    "print(calculate_variance(amazon_returns))\n",
    "print(calculate_variance(ebay_returns))"
   ]
  },
  {
   "cell_type": "markdown",
   "metadata": {},
   "source": [
    "9. Now, calculate the standard deviation of each stock's monthly returns using the `calculate_stddev()` function, and print out the results.\n",
    "\n",
    "   Recall that the standard deviation has the same unit of measurement as the original dataset, or the monthly returns in this case. Since rates of return are often expressed as a percentage, use `display_as_percentage()` to help format the standard deviation for easier interpretation."
   ]
  },
  {
   "cell_type": "code",
   "execution_count": 13,
   "metadata": {},
   "outputs": [
    {
     "name": "stdout",
     "output_type": "stream",
     "text": [
      "10.4%\n",
      "8.6%\n"
     ]
    }
   ],
   "source": [
    "print(display_as_percentage(calculate_stddev(amazon_returns)))\n",
    "print(display_as_percentage(calculate_stddev(ebay_returns)))"
   ]
  },
  {
   "cell_type": "markdown",
   "metadata": {},
   "source": [
    "10. Finally, calculate the correlation between the stock returns using the `calculate_correlation()` function, and print out the results.\n",
    "\n",
    "    Are Amazon and eBay stock returns strongly or weakly correlated? Is the correlation positive or negative?"
   ]
  },
  {
   "cell_type": "code",
   "execution_count": 14,
   "metadata": {},
   "outputs": [
    {
     "name": "stdout",
     "output_type": "stream",
     "text": [
      "0.6776978564073072\n"
     ]
    }
   ],
   "source": [
    "print(calculate_correlation(amazon_returns, ebay_returns))"
   ]
  }
 ],
 "metadata": {
  "kernelspec": {
   "display_name": "Python 3",
   "language": "python",
   "name": "python3"
  },
  "language_info": {
   "codemirror_mode": {
    "name": "ipython",
    "version": 3
   },
   "file_extension": ".py",
   "mimetype": "text/x-python",
   "name": "python",
   "nbconvert_exporter": "python",
   "pygments_lexer": "ipython3",
   "version": "3.8.5"
  }
 },
 "nbformat": 4,
 "nbformat_minor": 5
}
