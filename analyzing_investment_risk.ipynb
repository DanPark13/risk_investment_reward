{
 "cells": [
  {
   "cell_type": "markdown",
   "metadata": {},
   "source": [
    "# Analyzing Stock Data to Identify Investment Risk"
   ]
  },
  {
   "cell_type": "markdown",
   "metadata": {},
   "source": [
    "It's time to put your Python skills and financial knowledge to the test!\n",
    "\n",
    "You are given the monthly stock prices of two E-commerce companies, Amazon (AMZN) and eBay (EBAY). Help us analyze the risk and return for each investment! You will calculate the rates of return from this data, as well as other key statistics such as variance and correlation for assessing risk.\n",
    "\n",
    "Let's get started!"
   ]
  },
  {
   "cell_type": "markdown",
   "metadata": {},
   "source": [
    "## Inspect Data and Code"
   ]
  },
  {
   "cell_type": "markdown",
   "metadata": {},
   "source": [
    "1. The code block below provides the monthly stock prices of Amazon (AMZN) and eBay (EBAY) over the course of a year (June 2018 to June 2019). You are also given a helper function that displays decimal values (such as `0.075`) in percentage form (`7.5%`).\n",
    "\n",
    "   The code block also provides functions for calculating the log rate of return, variance, standard deviation, and correlation coefficient. \n",
    "   \n",
    "   Take a moment to familiarize yourself with these functions and proceed to the next step when you are ready!"
   ]
  },
  {
   "cell_type": "code",
   "execution_count": 1,
   "metadata": {},
   "outputs": [],
   "source": [
    "from helpers import *\n",
    "\n",
    "amazon_prices = [1699.8, 1777.44, 2012.71, 2003.0, 1598.01, 1690.17, 1501.97, 1718.73, 1639.83, 1780.75, 1926.52, 1775.07, 1893.63]\n",
    "ebay_prices = [35.98, 33.2, 34.35, 32.77, 28.81, 29.62, 27.86, 33.39, 37.01, 37.0, 38.6, 35.93, 39.5]"
   ]
  },
  {
   "cell_type": "markdown",
   "metadata": {},
   "source": [
    "## Calculate Rate of Return"
   ]
  },
  {
   "cell_type": "markdown",
   "metadata": {},
   "source": [
    "2. Let's start by calculating the logarithmic rates of return from the stock prices. Define a function called `get_returns()` that takes a parameter called `prices`, which will be a list of stock prices.\n",
    "\n",
    "   The function will eventually return a list of log returns calculated from each adjacent pair of prices. For now, create a variable called `returns` inside the function body, and set it equal to an empty list."
   ]
  },
  {
   "cell_type": "code",
   "execution_count": 2,
   "metadata": {},
   "outputs": [],
   "source": [
    "def get_returns(prices):\n",
    "    returns = []\n",
    "    for i in range(len(prices)-1):\n",
    "        start_price = prices[i]\n",
    "        end_price = prices[i+1]\n",
    "        returns.append(calculate_log_return(start_price, end_price))\n",
    "    return returns"
   ]
  },
  {
   "cell_type": "markdown",
   "metadata": {},
   "source": [
    "3. Next, use a `for` loop to iterate over the `prices` list, from the 1st element to the 2nd to last.\n",
    "\n",
    "   You will be accessing the elements by their indices, so use the `range()` function to help generate the sequence of numbers to iterate over. Recall that Python uses zero-based indexing, meaning the index numbering of the list starts with `0` and ends with `n - 1`, where `n` is the number of elements in the list.\n",
    "   \n",
    "   Comment out the `for` loop for now so that the kernel doesn't throw an error at you."
   ]
  },
  {
   "cell_type": "code",
   "execution_count": null,
   "metadata": {},
   "outputs": [],
   "source": []
  },
  {
   "cell_type": "markdown",
   "metadata": {},
   "source": [
    "4. As you iterate over each index `i`, the element in the `prices` list that is at position `i` will be the start price and the element with index `i + 1` will be the end price. Use the `calculate_log_return()` function to calculate the rate of return from the start and end prices. Then, append the rate of return to the `returns` list.\n",
    "\n",
    "   After your for loop, return `returns` from the `get_returns()` function."
   ]
  },
  {
   "cell_type": "code",
   "execution_count": null,
   "metadata": {},
   "outputs": [],
   "source": []
  },
  {
   "cell_type": "markdown",
   "metadata": {},
   "source": [
    "5. Use the `get_returns()` function to find the monthly log rates of return from the Amazon and eBay stock prices. Store those list of returns in the variables `amazon_returns` and `ebay_returns`, respectively."
   ]
  },
  {
   "cell_type": "code",
   "execution_count": 3,
   "metadata": {},
   "outputs": [],
   "source": [
    "amazon_returns = get_returns(amazon_prices)\n",
    "ebay_returns = get_returns(ebay_prices)"
   ]
  },
  {
   "cell_type": "markdown",
   "metadata": {},
   "source": [
    "6. Time to print out the lists of monthly returns! Since rates of return is often expressed as a percentage, use the `display_as_percentage()` function and list comprehension to display each value in `amazon_returns` and `ebay_returns` as a percentage.\n",
    "\n",
    "   How do the monthly returns of the two stocks compare? Are they on average profitable?"
   ]
  },
  {
   "cell_type": "code",
   "execution_count": 4,
   "metadata": {},
   "outputs": [
    {
     "data": {
      "text/plain": [
       "['4.5%',\n",
       " '12.4%',\n",
       " '-0.5%',\n",
       " '-22.6%',\n",
       " '5.6%',\n",
       " '-11.8%',\n",
       " '13.5%',\n",
       " '-4.7%',\n",
       " '8.2%',\n",
       " '7.9%',\n",
       " '-8.2%',\n",
       " '6.5%']"
      ]
     },
     "execution_count": 4,
     "metadata": {},
     "output_type": "execute_result"
    }
   ],
   "source": [
    "[display_as_percentage(price_return) for price_return in amazon_returns]"
   ]
  },
  {
   "cell_type": "code",
   "execution_count": 5,
   "metadata": {},
   "outputs": [
    {
     "data": {
      "text/plain": [
       "['-8.0%',\n",
       " '3.4%',\n",
       " '-4.7%',\n",
       " '-12.9%',\n",
       " '2.8%',\n",
       " '-6.1%',\n",
       " '18.1%',\n",
       " '10.3%',\n",
       " '-0.0%',\n",
       " '4.2%',\n",
       " '-7.2%',\n",
       " '9.5%']"
      ]
     },
     "execution_count": 5,
     "metadata": {},
     "output_type": "execute_result"
    }
   ],
   "source": [
    "[display_as_percentage(price_return) for price_return in ebay_returns]"
   ]
  },
  {
   "cell_type": "markdown",
   "metadata": {},
   "source": [
    "7. Now, let's calculate the annual rate of return for each stock!\n",
    "\n",
    "   Recall that log returns can easily be aggregated over time. Since `amazon_returns` and `ebay_returns` contain the monthly log returns for all 12 months in the past year, the annual return is simply the sum of all monthly returns. Use the `display_as_percentage()` function to help format the annual return as a percentage when you print out the results.\n",
    "   \n",
    "   How do the annual returns of the two stocks compare?"
   ]
  },
  {
   "cell_type": "code",
   "execution_count": 6,
   "metadata": {},
   "outputs": [
    {
     "name": "stdout",
     "output_type": "stream",
     "text": [
      "0.1079850248487889\n",
      "0.09333744338468924\n"
     ]
    }
   ],
   "source": [
    "amzn_annual_return = sum(amazon_returns)\n",
    "ebay_annual_return = sum(ebay_returns)\n",
    "print(amzn_annual_return)\n",
    "print(ebay_annual_return)"
   ]
  },
  {
   "cell_type": "markdown",
   "metadata": {},
   "source": [
    "## Assess Investment Risk"
   ]
  },
  {
   "cell_type": "markdown",
   "metadata": {},
   "source": [
    "8. Let's move on to assessing the risk of each investment! Start by calculating the variance of each stock's monthly returns. Use the `calculate_variance()` function we provided in the first task and print out the results.\n",
    "\n",
    "   How do the variance for each stock compare? What does this tell you about their relative risk?"
   ]
  },
  {
   "cell_type": "code",
   "execution_count": 7,
   "metadata": {},
   "outputs": [
    {
     "name": "stdout",
     "output_type": "stream",
     "text": [
      "0.010738060556609724\n",
      "0.007459046435081462\n"
     ]
    }
   ],
   "source": [
    "print(calculate_variance(amazon_returns))\n",
    "print(calculate_variance(ebay_returns))"
   ]
  },
  {
   "cell_type": "markdown",
   "metadata": {},
   "source": [
    "9. Now, calculate the standard deviation of each stock's monthly returns using the `calculate_stddev()` function, and print out the results.\n",
    "\n",
    "   Recall that the standard deviation has the same unit of measurement as the original dataset, or the monthly returns in this case. Since rates of return are often expressed as a percentage, use `display_as_percentage()` to help format the standard deviation for easier interpretation."
   ]
  },
  {
   "cell_type": "code",
   "execution_count": 8,
   "metadata": {},
   "outputs": [
    {
     "name": "stdout",
     "output_type": "stream",
     "text": [
      "10.4%\n",
      "8.6%\n"
     ]
    }
   ],
   "source": [
    "print(display_as_percentage(calculate_stddev(amazon_returns)))\n",
    "print(display_as_percentage(calculate_stddev(ebay_returns)))"
   ]
  },
  {
   "cell_type": "markdown",
   "metadata": {},
   "source": [
    "10. Finally, calculate the correlation between the stock returns using the `calculate_correlation()` function, and print out the results.\n",
    "\n",
    "    Are Amazon and eBay stock returns strongly or weakly correlated? Is the correlation positive or negative?"
   ]
  },
  {
   "cell_type": "code",
   "execution_count": 9,
   "metadata": {},
   "outputs": [
    {
     "name": "stdout",
     "output_type": "stream",
     "text": [
      "0.6776978564073072\n"
     ]
    }
   ],
   "source": [
    "print(calculate_correlation(amazon_returns, ebay_returns))"
   ]
  },
  {
   "cell_type": "code",
   "execution_count": null,
   "metadata": {},
   "outputs": [],
   "source": []
  }
 ],
 "metadata": {
  "kernelspec": {
   "display_name": "Python 3",
   "language": "python",
   "name": "python3"
  },
  "language_info": {
   "codemirror_mode": {
    "name": "ipython",
    "version": 3
   },
   "file_extension": ".py",
   "mimetype": "text/x-python",
   "name": "python",
   "nbconvert_exporter": "python",
   "pygments_lexer": "ipython3",
   "version": "3.8.5"
  }
 },
 "nbformat": 4,
 "nbformat_minor": 5
}
