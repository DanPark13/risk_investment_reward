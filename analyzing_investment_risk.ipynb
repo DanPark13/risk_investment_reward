{
 "cells": [
  {
   "cell_type": "markdown",
   "metadata": {},
   "source": [
    "# Analyzing Stock Data to Identify Investment Risk"
   ]
  },
  {
   "cell_type": "markdown",
   "metadata": {},
   "source": [
    "**Author: Daniel Park**\n",
    "\n",
    "Even though the internet dates back to the 70s when the internet was still in its infancy, it was during the 90s when it became a mainstay in homes across the globe. And with new age of information, so did the people who set up shop on the space.\n",
    "\n",
    "It was during that time when companies began setting up virtual marketplaces, namely Jeff Bezo's Amazon and Pierre Omidyar's eBay to match buyers and sellers of goods and services. Although these two are strong household names, how do these companies hold up when it comes to investing in them now?\n",
    "\n",
    "In this analysis, we will analyze the risk and return for each of these E-commerce companies by calculating the rates of return as well as other key statistics such as variance and correlation for assessing risk.\n",
    "\n",
    "To ensure that the plots display correctly in this document, run the code cell below to reload modules before executing user code to make workflow possible."
   ]
  },
  {
   "cell_type": "code",
   "execution_count": 1,
   "metadata": {},
   "outputs": [],
   "source": [
    "%load_ext autoreload\n",
    "%autoreload 2"
   ]
  },
  {
   "cell_type": "markdown",
   "metadata": {},
   "source": [
    "## Risk Investment Analysis Helper Functions"
   ]
  },
  {
   "cell_type": "markdown",
   "metadata": {},
   "source": [
    "In order to calculate the risk and reward between the two companies, we must first set up basic functions to calculate log return, variance, standard deviation, and the correlation coefficient (we will go over why these are important later.)\n",
    "\n",
    "But first, let's import the necessary math functions as well as a function for displaying a decimal as a percentage"
   ]
  },
  {
   "cell_type": "code",
   "execution_count": 2,
   "metadata": {},
   "outputs": [],
   "source": [
    "from math import log, sqrt\n",
    "\n",
    "def display_as_percentage(val):\n",
    "    return '{:.1f}%'.format(val*100)"
   ]
  },
  {
   "cell_type": "markdown",
   "metadata": {},
   "source": [
    "### Logarithmic Rate of Return\n",
    "\n",
    "The first helper function that we need to write is the **logarithmic rate of return** also known as the **continuously compounded return** given by the formula below.\n",
    "\n",
    "\n",
    "$$\n",
    "r = log(E) - log(S) = log(\\frac{E}{S})\n",
    "$$\n",
    "\n",
    "where \n",
    "\n",
    "- `r`: logarithmic rate of return\n",
    "- `S`: starting price of investment\n",
    "- `E`: ending price of investment\n",
    "\n",
    "This formula calculates the expected return for an investment where the earnings are assumed to be continually reinvested over a certain time period."
   ]
  },
  {
   "cell_type": "code",
   "execution_count": 3,
   "metadata": {},
   "outputs": [],
   "source": [
    "def calculate_log_return(start_price, end_price):\n",
    "    return log(end_price / start_price)"
   ]
  },
  {
   "cell_type": "markdown",
   "metadata": {},
   "source": [
    "### Variance\n",
    "\n",
    "To assess the risk involved in an investment, one of the key statistics to understand risk is **variance** which measures the spread of a dataset or how far apart each value is from the mean. The greater the variance, the more spread out or variable the data is represented by the formula below.\n",
    "\n",
    "$$\\sigma^{2} = \\frac{\\Sigma(X_{i} - \\bar{X})^{2}}{n}$$\n",
    "\n",
    "- `σ2`: variance\n",
    "- `Xi`: the ith value in the dataset\n",
    "- `X̄`: the mean of the dataset\n",
    "- `n`: the number of values in the dataset\n",
    "\n",
    "\n",
    "In the context of investing, an asset with a high variance is generally a riskier one because its return can vary significantly in a short period of time, making it less stable and more unpredictable."
   ]
  },
  {
   "cell_type": "code",
   "execution_count": 4,
   "metadata": {},
   "outputs": [],
   "source": [
    "def calculate_variance(dataset):\n",
    "    mean = sum(dataset)/len(dataset)\n",
    "    numerator = 0\n",
    "    for data in dataset:\n",
    "        numerator += (data-mean) ** 2\n",
    "    return numerator / len(dataset)"
   ]
  },
  {
   "cell_type": "markdown",
   "metadata": {},
   "source": [
    "### Standard Deviation\n",
    "\n",
    "\n",
    "Although the variance is useful in determining the relative risk of an investment, it is sometimes not the easiest statistic to interpret since it does not have the same unit as the original data. Alternatively, we can use the standard deviation to describe the spread of the dataset.\n",
    "\n",
    "And in this case, we can calculate the standard deviation simply as the square root of the variance.\n",
    "\n",
    "$$\\sigma = \\sqrt{\\frac{\\Sigma(X_{i} - \\bar{X})^{2}}{n}}$$\n",
    "\n",
    "- `σ`: standard deviation\n",
    "- `Xi`: the ith value in the dataset\n",
    "- `X̄`: the mean of the dataset\n",
    "- `n`: the number of values in the dataset"
   ]
  },
  {
   "cell_type": "code",
   "execution_count": 5,
   "metadata": {},
   "outputs": [],
   "source": [
    "def calculate_stddev(dataset):\n",
    "    variance = calculate_variance(dataset)\n",
    "    return sqrt(variance)"
   ]
  },
  {
   "cell_type": "markdown",
   "metadata": {},
   "source": [
    "### Calculating Correlation\n",
    "\n",
    "\n",
    "Another important statistic for assessing risk is the correlation between the returns of two assets. Correlation is a measure of how closely two datasets are associated with each other. It is often represented by the correlation coefficient, which is a value that ranges between -1 and 1. This indicates whether there is a positive correlation, negative correlation, or no correlation.\n",
    "\n",
    "In finance, two assets from the same industry generally have a positive correlation, as they are likely affected by similar external conditions. So for example, automobile stocks may be positively correlated with each other while oil stocks may be negatively correlated with automobile stocks.\n",
    "\n",
    "When building a portfolio, it is generally a good idea to include assets that are not correlated with each other. If assets are independent of one another, then there is a lower risk of the financial loss that can occur when assets in a portfolio are correlated. This allows for greater diversification and balances out the overall risk and return of the portfolio.\n",
    "\n",
    "And to get a single value that tells us the relationship between two continuous variables,, we use the Pearson Correlation Coefficient that measures both the strength and direction of the linear relationship.\n",
    "\n",
    "We use the formula shown below:\n",
    "\n",
    "$$\\rho = \\frac{\\text{cov}(X,Y)}{\\sigma_x \\sigma_y}$$\n",
    "\n",
    "- `x̄` = Mean of x\n",
    "\n",
    "- `ȳ` = Mean of y"
   ]
  },
  {
   "cell_type": "code",
   "execution_count": 6,
   "metadata": {},
   "outputs": [],
   "source": [
    "# Calculate Correlation Coefficient\n",
    "def calculate_correlation(set_x, set_y):\n",
    "    sum_x = sum(set_x)\n",
    "    sum_y = sum(set_y)\n",
    "    \n",
    "    sum_x2 = sum([x ** 2 for x in set_x])\n",
    "    sum_y2 = sum([y ** 2 for y in set_y])\n",
    "    sum_xy = sum([x * y for x,y in zip(set_x, set_y)])\n",
    "    \n",
    "    n = len(set_x)\n",
    "    numerator = n * sum_xy - sum_x * sum_y\n",
    "    denominator = sqrt((n * sum_x2 - sum_x ** 2) * (n * sum_y2 - sum_y ** 2))\n",
    "    return numerator / denominator"
   ]
  },
  {
   "cell_type": "markdown",
   "metadata": {},
   "source": [
    "## Calculate Rate of Return"
   ]
  },
  {
   "cell_type": "markdown",
   "metadata": {},
   "source": [
    "Now to start calculating the logarithmic rates of return from the stock prices, I defined a function called `get_returns()` that takes a parameter called `prices`, which will be a list of stock prices.\n",
    "\n",
    "To calculate the returns,the list of prices is iterated through and the log return of two adjacent prices is calculated and placed in a list of returns. The importance of calculating the percentage difference is to avoid having the difference in price affect the possible risk of investment.\n",
    "\n",
    "The function will return a list of log returns calculated from each adjacent pair of prices."
   ]
  },
  {
   "cell_type": "code",
   "execution_count": 7,
   "metadata": {},
   "outputs": [],
   "source": [
    "def get_returns(prices):\n",
    "    returns = []\n",
    "    for i in range(len(prices)-1):\n",
    "        start_price = prices[i]\n",
    "        end_price = prices[i+1]\n",
    "        returns.append(calculate_log_return(start_price, end_price))\n",
    "    return returns"
   ]
  },
  {
   "cell_type": "markdown",
   "metadata": {},
   "source": [
    "And to analyze the risk investment between Amazon (AZMN) and EBay (EBAY), I will use data from [Yahoo Finance](https://finance.yahoo.com/) of the price stock at the start of each month from June 2021 to June 2022 (to avoid the discrepency caused by Amazon's 20:1 Stock Split)\n",
    "\n",
    "For now, I manually inputted the data to put more effort in learning of the economic processes but in a later edition, I will use BeautifulSoup to scrap the data directly from [Yahoo Finance](https://finance.yahoo.com/)."
   ]
  },
  {
   "cell_type": "code",
   "execution_count": 8,
   "metadata": {},
   "outputs": [],
   "source": [
    "amazon_prices = [171.73, 167.65, 174.82, 164.45, 168.09, 207.25, 167.55, 150.00, 152.73, 164.15, 152.40, 152.26]\n",
    "ebay_prices = [61.52, 70.21, 68.81, 77.06, 69.70, 76.47, 68.64, 66.45, 59.91, 54.56, 57.87, 51.97, 49.08]"
   ]
  },
  {
   "cell_type": "markdown",
   "metadata": {},
   "source": [
    "With the data, I used `get_returns()` function to find the monthly log rates of return from the Amazon and eBay stock prices. Store those list of returns in the variables `amazon_returns` and `ebay_returns`, respectively."
   ]
  },
  {
   "cell_type": "code",
   "execution_count": 9,
   "metadata": {},
   "outputs": [],
   "source": [
    "amazon_returns = get_returns(amazon_prices)\n",
    "ebay_returns = get_returns(ebay_prices)"
   ]
  },
  {
   "cell_type": "markdown",
   "metadata": {},
   "source": [
    "Now I ouputted the lists of monthly returns, with the help of displaying the price return as a percentage, however, it is hard to tell how the return of the two stocks compare and if they are on average profitable."
   ]
  },
  {
   "cell_type": "code",
   "execution_count": 10,
   "metadata": {},
   "outputs": [
    {
     "data": {
      "text/plain": [
       "['-2.4%',\n",
       " '4.2%',\n",
       " '-6.1%',\n",
       " '2.2%',\n",
       " '20.9%',\n",
       " '-21.3%',\n",
       " '-11.1%',\n",
       " '1.8%',\n",
       " '7.2%',\n",
       " '-7.4%',\n",
       " '-0.1%']"
      ]
     },
     "execution_count": 10,
     "metadata": {},
     "output_type": "execute_result"
    }
   ],
   "source": [
    "[display_as_percentage(price_return) for price_return in amazon_returns]"
   ]
  },
  {
   "cell_type": "code",
   "execution_count": 11,
   "metadata": {},
   "outputs": [
    {
     "data": {
      "text/plain": [
       "['13.2%',\n",
       " '-2.0%',\n",
       " '11.3%',\n",
       " '-10.0%',\n",
       " '9.3%',\n",
       " '-10.8%',\n",
       " '-3.2%',\n",
       " '-10.4%',\n",
       " '-9.4%',\n",
       " '5.9%',\n",
       " '-10.8%',\n",
       " '-5.7%']"
      ]
     },
     "execution_count": 11,
     "metadata": {},
     "output_type": "execute_result"
    }
   ],
   "source": [
    "[display_as_percentage(price_return) for price_return in ebay_returns]"
   ]
  },
  {
   "cell_type": "markdown",
   "metadata": {},
   "source": [
    "Using the monthly rate of returns, we can sum them together to get the annual rate of return. We avoided using the two years between 2021 and 2022 since more data leads to more accurate results.\n",
    "   \n",
    "\n",
    "Now we can see below that on average over the period between June 2021 and June 2022, the annual rate of return for both companies fell, with EBay having a less annual return rate than EBay."
   ]
  },
  {
   "cell_type": "code",
   "execution_count": 12,
   "metadata": {},
   "outputs": [
    {
     "name": "stdout",
     "output_type": "stream",
     "text": [
      "-0.12033389011770391\n",
      "-0.22591070535467814\n"
     ]
    }
   ],
   "source": [
    "amzn_annual_return = sum(amazon_returns)\n",
    "ebay_annual_return = sum(ebay_returns)\n",
    "\n",
    "print(amzn_annual_return)\n",
    "print(ebay_annual_return)"
   ]
  },
  {
   "cell_type": "markdown",
   "metadata": {},
   "source": [
    "## Assess Investment Risk"
   ]
  },
  {
   "cell_type": "markdown",
   "metadata": {},
   "source": [
    "Now to assess the risk of each investment, I calculated the variance of each stock's monthly returns. Use the `calculate_variance()` function we provided in the first task and print out the results.\n",
    "\n",
    "As we see below, the variance for Amazon’s monthly returns is slightly higher than eBay’s. A greater variance generally signifies a riskier investment."
   ]
  },
  {
   "cell_type": "code",
   "execution_count": 13,
   "metadata": {},
   "outputs": [
    {
     "name": "stdout",
     "output_type": "stream",
     "text": [
      "0.01069053597390166\n",
      "0.007967784162336419\n"
     ]
    }
   ],
   "source": [
    "print(calculate_variance(amazon_returns))\n",
    "print(calculate_variance(ebay_returns))"
   ]
  },
  {
   "cell_type": "markdown",
   "metadata": {},
   "source": [
    "To further justify our finding with the variance, we can calculate the standard deviation of each stock's monthly returns using the `calculate_stddev()` function, and print out the results.\n",
    "\n",
    "Amazon’s monthly returns have a greater standard deviation than eBay’s. As we’ve already seen previously, investing in Amazon stock is likely riskier.It is worthwhile to note again that Amazon also has the higher rate of return, demonstrating the risk-return tradeoff that often exists in investments."
   ]
  },
  {
   "cell_type": "code",
   "execution_count": 14,
   "metadata": {},
   "outputs": [
    {
     "name": "stdout",
     "output_type": "stream",
     "text": [
      "10.3%\n",
      "8.9%\n"
     ]
    }
   ],
   "source": [
    "print(display_as_percentage(calculate_stddev(amazon_returns)))\n",
    "print(display_as_percentage(calculate_stddev(ebay_returns)))"
   ]
  },
  {
   "cell_type": "markdown",
   "metadata": {},
   "source": [
    "Finally, calculate the correlation between the stock returns using the `calculate_correlation()` function, and we can see the correlation coefficient is about 0.16 which indicates a moderate positive correlation.\n",
    "\n",
    "As said in the **Calculating Correlation** section, we should be careful about investing in highly correlated stocks to avoid putting all our eggs in one basket, so to speak. Instead, it is wise to invest in uncorrelated stocks, such that a loss in one does not automatically mean a loss in the other. This diversifies the investment portfolio and reduces overall risk."
   ]
  },
  {
   "cell_type": "code",
   "execution_count": 15,
   "metadata": {},
   "outputs": [
    {
     "name": "stdout",
     "output_type": "stream",
     "text": [
      "0.16507117833663582\n"
     ]
    }
   ],
   "source": [
    "print(calculate_correlation(amazon_returns, ebay_returns))"
   ]
  },
  {
   "cell_type": "markdown",
   "metadata": {},
   "source": [
    "This project is meant to serve as a introductory guide in analyzing risk investment as a gateway into financial analytics with Python, and should not be used as financial advice."
   ]
  }
 ],
 "metadata": {
  "kernelspec": {
   "display_name": "Python 3",
   "language": "python",
   "name": "python3"
  },
  "language_info": {
   "codemirror_mode": {
    "name": "ipython",
    "version": 3
   },
   "file_extension": ".py",
   "mimetype": "text/x-python",
   "name": "python",
   "nbconvert_exporter": "python",
   "pygments_lexer": "ipython3",
   "version": "3.8.5"
  }
 },
 "nbformat": 4,
 "nbformat_minor": 5
}
